{
 "cells": [
  {
   "cell_type": "markdown",
   "metadata": {},
   "source": [
    "# 编译上机（三）求FIRST\n",
    "## 要求：\n",
    "\n",
    "例如. 使用的文法如下：\n",
    "\n",
    "E -> TE'\n",
    "\n",
    "E' -> +TE'| $\\epsilon$\n",
    "\n",
    "T -> FT'\n",
    "\n",
    "T' -> * FT'| $\\epsilon$\n",
    "\n",
    "F -> (E) | id\n",
    "\n",
    "编写First函数，实现其求解过程。\n",
    "\n",
    "## 提示：\n",
    "\n",
    "* 非终结符为 大写字母；或 后面带’的大写字母\n",
    "* 终结符为 小写字母和符号（+、*）\n",
    "* 推导符号为®或->\n",
    "* 用end结束文法。\n",
    "* 不针对特定文法，编写求first函数。"
   ]
  }
 ],
 "metadata": {
  "kernelspec": {
   "display_name": "Python 2",
   "language": "python",
   "name": "python2"
  },
  "language_info": {
   "codemirror_mode": {
    "name": "ipython",
    "version": 2
   },
   "file_extension": ".py",
   "mimetype": "text/x-python",
   "name": "python",
   "nbconvert_exporter": "python",
   "pygments_lexer": "ipython2",
   "version": "2.7.13"
  }
 },
 "nbformat": 4,
 "nbformat_minor": 2
}
